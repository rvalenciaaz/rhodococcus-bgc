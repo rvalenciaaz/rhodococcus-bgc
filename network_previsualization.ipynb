{
 "cells": [
  {
   "cell_type": "code",
   "execution_count": 38,
   "metadata": {},
   "outputs": [],
   "source": [
    "import networkx as nx\n",
    "\n",
    "import pandas as pd\n",
    "import numpy as np\n",
    "\n",
    "from bokeh.io import show, output_file, export_png, push_notebook,output_notebook\n",
    "from bokeh.models import CDSView,Legend,Slider,BooleanFilter,IndexFilter,CustomJSFilter,CustomJS, LegendItem, ResetTool, Plot, Range1d, MultiLine, Circle, HoverTool, TapTool, BoxSelectTool, SaveTool, BoxZoomTool, WheelZoomTool, PanTool\n",
    "from bokeh.models.graphs import from_networkx, NodesAndLinkedEdges, EdgesAndLinkedNodes\n",
    "from bokeh.palettes import Spectral4\n",
    "from bokeh.plotting import figure,ColumnDataSource\n",
    "from bokeh.core.properties import field\n",
    "\n",
    "from bokeh.layouts import widgetbox,row\n",
    "#from bokeh.models.widgets import Slider\n",
    "\n",
    "from networkx.drawing.nx_agraph import pygraphviz_layout\n",
    "#import matplotlib.pyplot as plt\n",
    "\n",
    "from argparse import ArgumentParser\n",
    "import pickle\n",
    "#output_notebook()"
   ]
  },
  {
   "cell_type": "code",
   "execution_count": 39,
   "metadata": {},
   "outputs": [],
   "source": [
    "samplecol=['#3cb44b', '#ffe119', '#4363d8', '#f58231', '#911eb4', '#46f0f0', '#f032e6', '#bcf60c', '#fabebe', '#008080', '#e6beff', '#9a6324', '#800000', '#aaffc3', '#808000', '#000075', '#808080', '#000000']"
   ]
  },
  {
   "cell_type": "code",
   "execution_count": 40,
   "metadata": {},
   "outputs": [],
   "source": [
    "pathtabla='v2_edges_06_after_cleaning_checkcontrol_dereplication.csv'\n",
    "pathcolores='colores_bgc_clado.csv'\n",
    "uniform='red'\n",
    "nxlayout=''\n",
    "progname='neato'\n",
    "ecolor='#CCCCCC'\n",
    "ewidth=1\n",
    "ndia=8\n",
    "bgcgroup='NRPS'\n",
    "salida='v2_color_clado_checkcontrol_dereplication'\n",
    "origen='clado_categories_v2.csv'"
   ]
  },
  {
   "cell_type": "code",
   "execution_count": 41,
   "metadata": {},
   "outputs": [],
   "source": [
    "a=pd.read_csv(pathtabla)\n",
    "\n",
    "info=pd.read_csv('v2_nodes_after_cleaning_checkcontrol_dereplication.csv')\n",
    "infoex=info.copy()\n",
    "infoex1=infoex[['Id','reduccion']]\n",
    "\n",
    "g1=nx.from_pandas_edgelist(a, source='Source', target='Target', edge_attr=['Raw distance'])\n",
    "\n",
    "xg=pd.DataFrame({'Id':[i for i in nx.nodes(g1)]})\n",
    "xgredu=pd.merge(xg,infoex1,how='left',on='Id')\n",
    "nx.set_node_attributes(g1, dict(zip(xgredu['Id'],xgredu['reduccion'])),'Class')\n",
    "if bgcgroup!='':\n",
    "    tempo=g1.copy()\n",
    "    g2=tempo.subgraph([x for x,y in tempo.nodes(data=True) if y['Class']==bgcgroup])\n",
    "    g1=g2.copy()\n",
    "    faltantes=list(set(info[info['reduccion']=='NRPS']['Id'])-set(list(nx.nodes(g1))))\n",
    "    g1.add_nodes_from(faltantes,Class='NRPS')\n",
    "    lg=pd.DataFrame({'Id':[i for i in nx.nodes(g1)]})\n",
    "else:\n",
    "    lg=xg"
   ]
  },
  {
   "cell_type": "code",
   "execution_count": 42,
   "metadata": {},
   "outputs": [],
   "source": [
    "f1=lambda x:x.split('.')[0]+'.1'"
   ]
  },
  {
   "cell_type": "code",
   "execution_count": 43,
   "metadata": {},
   "outputs": [],
   "source": [
    "with open('rhodo_contig_genome_dict.pkl','rb') as pr1:\n",
    "    dictr1=pickle.load(pr1)"
   ]
  },
  {
   "cell_type": "code",
   "execution_count": 44,
   "metadata": {},
   "outputs": [],
   "source": [
    "with open('rhodo_assembly_name.pkl','rb') as pr2:\n",
    "    dictr2=pickle.load(pr2)"
   ]
  },
  {
   "cell_type": "code",
   "execution_count": 45,
   "metadata": {},
   "outputs": [
    {
     "data": {
      "text/plain": [
       "19"
      ]
     },
     "execution_count": 45,
     "metadata": {},
     "output_type": "execute_result"
    }
   ],
   "source": [
    "back=[dictr2[dictr1[y]] for y in list(map(f1,faltantes))]\n",
    "len(pd.unique(back))"
   ]
  },
  {
   "cell_type": "code",
   "execution_count": null,
   "metadata": {},
   "outputs": [],
   "source": []
  },
  {
   "cell_type": "code",
   "execution_count": 46,
   "metadata": {},
   "outputs": [],
   "source": [
    "#info=pd.read_csv('nodes_after_cleaning_dereplication.csv')\n",
    "lg['contigId']=lg['Id'].apply(lambda x: x.split('.')[0]+'.1')"
   ]
  },
  {
   "cell_type": "code",
   "execution_count": null,
   "metadata": {},
   "outputs": [],
   "source": []
  },
  {
   "cell_type": "code",
   "execution_count": 47,
   "metadata": {},
   "outputs": [],
   "source": [
    "if origen!='':\n",
    "    yi=pd.read_csv(origen,sep=';')\n",
    "    yi.iloc[:,0]=yi.iloc[:,0].apply(lambda x:x[0:-8])\n",
    "    dict1=dict(zip(yi.iloc[:,0],yi.iloc[:,1]))\n",
    "with open('rhodo_contig_genome_dict.pkl','rb') as f2: \n",
    "    dict2=pickle.load(f2)\n",
    "with open('rhodo_assembly_name.pkl','rb') as f3: \n",
    "    dict3=pickle.load(f3)\n",
    "\n",
    "lg['Clade']=lg['contigId'].apply(lambda x:dict1[dict2[x]])\n",
    "#lg2['cat']=lg2['contigId'].apply(lambda x:dict1[dict2[x]])\n",
    "lg['bacteria']=lg['contigId'].apply(lambda x:dict3[dict2[x]])\n",
    "\n",
    "q=pd.read_csv('v2_gcf_after_cleaning_checkcontrol_dereplication.csv')\n",
    "lg2=lg.merge(q,how='left',on='Id')\n",
    "lg2.loc[lg2['gcf'].isna(),'gcf']='NA'"
   ]
  },
  {
   "cell_type": "code",
   "execution_count": null,
   "metadata": {},
   "outputs": [],
   "source": []
  },
  {
   "cell_type": "code",
   "execution_count": 48,
   "metadata": {},
   "outputs": [
    {
     "data": {
      "text/html": [
       "<div>\n",
       "<style scoped>\n",
       "    .dataframe tbody tr th:only-of-type {\n",
       "        vertical-align: middle;\n",
       "    }\n",
       "\n",
       "    .dataframe tbody tr th {\n",
       "        vertical-align: top;\n",
       "    }\n",
       "\n",
       "    .dataframe thead th {\n",
       "        text-align: right;\n",
       "    }\n",
       "</style>\n",
       "<table border=\"1\" class=\"dataframe\">\n",
       "  <thead>\n",
       "    <tr style=\"text-align: right;\">\n",
       "      <th></th>\n",
       "      <th>Id</th>\n",
       "      <th>contigId</th>\n",
       "      <th>Clade</th>\n",
       "      <th>bacteria</th>\n",
       "      <th>gcf</th>\n",
       "    </tr>\n",
       "  </thead>\n",
       "  <tbody>\n",
       "    <tr>\n",
       "      <th>48</th>\n",
       "      <td>NZ_LQWU01000001.cluster022</td>\n",
       "      <td>NZ_LQWU01000001.1</td>\n",
       "      <td>4b</td>\n",
       "      <td>Rhodococcus erythropolis strain B7g</td>\n",
       "      <td>8</td>\n",
       "    </tr>\n",
       "    <tr>\n",
       "      <th>65</th>\n",
       "      <td>NZ_LQWU01000001.cluster023</td>\n",
       "      <td>NZ_LQWU01000001.1</td>\n",
       "      <td>4b</td>\n",
       "      <td>Rhodococcus erythropolis strain B7g</td>\n",
       "      <td>22</td>\n",
       "    </tr>\n",
       "    <tr>\n",
       "      <th>150</th>\n",
       "      <td>NZ_LQWU01000001.cluster012</td>\n",
       "      <td>NZ_LQWU01000001.1</td>\n",
       "      <td>4b</td>\n",
       "      <td>Rhodococcus erythropolis strain B7g</td>\n",
       "      <td>6</td>\n",
       "    </tr>\n",
       "    <tr>\n",
       "      <th>208</th>\n",
       "      <td>NZ_LQWU01000001.cluster013</td>\n",
       "      <td>NZ_LQWU01000001.1</td>\n",
       "      <td>4b</td>\n",
       "      <td>Rhodococcus erythropolis strain B7g</td>\n",
       "      <td>2</td>\n",
       "    </tr>\n",
       "    <tr>\n",
       "      <th>351</th>\n",
       "      <td>NZ_LQWU01000001.cluster014</td>\n",
       "      <td>NZ_LQWU01000001.1</td>\n",
       "      <td>4b</td>\n",
       "      <td>Rhodococcus erythropolis strain B7g</td>\n",
       "      <td>10</td>\n",
       "    </tr>\n",
       "    <tr>\n",
       "      <th>407</th>\n",
       "      <td>NZ_LQWU01000001.cluster009</td>\n",
       "      <td>NZ_LQWU01000001.1</td>\n",
       "      <td>4b</td>\n",
       "      <td>Rhodococcus erythropolis strain B7g</td>\n",
       "      <td>16</td>\n",
       "    </tr>\n",
       "    <tr>\n",
       "      <th>422</th>\n",
       "      <td>NZ_LQWU01000001.cluster004</td>\n",
       "      <td>NZ_LQWU01000001.1</td>\n",
       "      <td>4b</td>\n",
       "      <td>Rhodococcus erythropolis strain B7g</td>\n",
       "      <td>3</td>\n",
       "    </tr>\n",
       "  </tbody>\n",
       "</table>\n",
       "</div>"
      ],
      "text/plain": [
       "                             Id           contigId Clade  \\\n",
       "48   NZ_LQWU01000001.cluster022  NZ_LQWU01000001.1    4b   \n",
       "65   NZ_LQWU01000001.cluster023  NZ_LQWU01000001.1    4b   \n",
       "150  NZ_LQWU01000001.cluster012  NZ_LQWU01000001.1    4b   \n",
       "208  NZ_LQWU01000001.cluster013  NZ_LQWU01000001.1    4b   \n",
       "351  NZ_LQWU01000001.cluster014  NZ_LQWU01000001.1    4b   \n",
       "407  NZ_LQWU01000001.cluster009  NZ_LQWU01000001.1    4b   \n",
       "422  NZ_LQWU01000001.cluster004  NZ_LQWU01000001.1    4b   \n",
       "\n",
       "                                bacteria gcf  \n",
       "48   Rhodococcus erythropolis strain B7g   8  \n",
       "65   Rhodococcus erythropolis strain B7g  22  \n",
       "150  Rhodococcus erythropolis strain B7g   6  \n",
       "208  Rhodococcus erythropolis strain B7g   2  \n",
       "351  Rhodococcus erythropolis strain B7g  10  \n",
       "407  Rhodococcus erythropolis strain B7g  16  \n",
       "422  Rhodococcus erythropolis strain B7g   3  "
      ]
     },
     "execution_count": 48,
     "metadata": {},
     "output_type": "execute_result"
    }
   ],
   "source": [
    "lg2[lg2['bacteria'].apply(lambda x: 'B7g' in x)]"
   ]
  },
  {
   "cell_type": "code",
   "execution_count": null,
   "metadata": {},
   "outputs": [],
   "source": []
  },
  {
   "cell_type": "code",
   "execution_count": 49,
   "metadata": {},
   "outputs": [],
   "source": [
    "if pathcolores!='':\n",
    "    tabcol=pd.read_csv(pathcolores,header=None)\n",
    "    colores=dict(zip(tabcol.iloc[:,0],tabcol.iloc[:,1]))\n",
    "    colli=[colores[i] if (j!=\"Rhodococcus sp. H-CA8f\") else 'white' for i,j in zip(lg2['Clade'],lg2['bacteria'])]\n",
    "    #colores={q:samplecol[cou%len(samplecol)] for cou,q in zip(range(len(pd.unique(lg2['gcf']))),pd.unique(lg2['gcf']))}\n",
    "    #colli=[colores[i] if (j not in [\"Rhodococcus sp. H-CA8f\"]) else 'white' for i,j in zip(lg2['gcf'],lg2['bacteria'])] #,\"Rhodococcus erythropolis strain B7g\"\n",
    "else:\n",
    "    colli=[uniform for i in lg2['Clade']]"
   ]
  },
  {
   "cell_type": "code",
   "execution_count": 50,
   "metadata": {},
   "outputs": [
    {
     "data": {
      "text/plain": [
       "{'1': '#F2cd6f',\n",
       " '2a': '#00721f',\n",
       " '2b': '#8db955',\n",
       " '3a': '#d6c6e1',\n",
       " '3b': '#781c45',\n",
       " '4a': '#7db6ff',\n",
       " '4b': '#2f5ccc'}"
      ]
     },
     "execution_count": 50,
     "metadata": {},
     "output_type": "execute_result"
    }
   ],
   "source": [
    "colores"
   ]
  },
  {
   "cell_type": "code",
   "execution_count": 51,
   "metadata": {},
   "outputs": [],
   "source": [
    "nx.set_node_attributes(g1, dict(zip(lg2['Id'],lg2['Clade'])),'Clade')\n",
    "nx.set_node_attributes(g1, dict(zip(lg2['Id'],colli)),'ncolor')\n",
    "nx.set_node_attributes(g1, dict(zip(lg2['Id'],lg2['bacteria'])),'Bacteria')\n",
    "nx.set_node_attributes(g1, dict(zip(lg2['Id'],lg2['gcf'])),'GCF')\n",
    "nx.set_node_attributes(g1, dict(zip(lg2['Id'],lg2['Id'])),'Cluster')"
   ]
  },
  {
   "cell_type": "markdown",
   "metadata": {},
   "source": [
    "gy=pygraphviz_layout(g1,prog=progname)"
   ]
  },
  {
   "cell_type": "markdown",
   "metadata": {},
   "source": [
    "with open('layout_neato_NRPS_checkcontrol_dereplication_v2.pkl','wb') as f1:\n",
    "    pickle.dump(gy,f1)"
   ]
  },
  {
   "cell_type": "code",
   "execution_count": 52,
   "metadata": {},
   "outputs": [],
   "source": [
    "with open('layout_neato_NRPS_checkcontrol_dereplication_v2.pkl','rb') as f:\n",
    "    gy=pickle.load(f)"
   ]
  },
  {
   "cell_type": "code",
   "execution_count": 53,
   "metadata": {},
   "outputs": [
    {
     "data": {
      "text/plain": [
       "717"
      ]
     },
     "execution_count": 53,
     "metadata": {},
     "output_type": "execute_result"
    }
   ],
   "source": [
    "len(nx.nodes(g1))"
   ]
  },
  {
   "cell_type": "code",
   "execution_count": 54,
   "metadata": {},
   "outputs": [],
   "source": [
    "if nxlayout!='':\n",
    "    plot = Plot(plot_width=1000, plot_height=1000,\n",
    "            x_range=Range1d(-1.1,1.1), y_range=Range1d(-1.1,1.1))\n",
    "    result = getattr(nx,nxlayout+'_layout')\n",
    "\n",
    "    graph_renderer = from_networkx(g1,result, scale=1, center=(0,0))\n",
    "else:\n",
    "    xmaxplot=max([h[0] for h in gy.values()])+20\n",
    "    ymaxplot=max([h[1] for h in gy.values()])+20\n",
    "    xminplot=min([h[0] for h in gy.values()])-20\n",
    "    yminplot=min([h[1] for h in gy.values()])-20\n",
    "\n",
    "    plot = Plot(plot_width=1000, plot_height=1000,\n",
    "            x_range=Range1d(xminplot,xmaxplot), y_range=Range1d(yminplot,ymaxplot))\n",
    "\n",
    "    graph_renderer = from_networkx(g1,gy,prog=progname)#scale=1, center=(0,0)\n",
    "\n",
    "plot.add_tools(HoverTool(tooltips=[('Bacteria','@Bacteria'),('Cluster','@Cluster'),('Class','@Class'),('Clade','@Clade'),('GCF','@GCF')]), ResetTool(), TapTool(), BoxSelectTool(),SaveTool(),WheelZoomTool(), PanTool(),BoxZoomTool())\n",
    "\n",
    "graph_renderer.node_renderer.glyph = Circle(size=ndia, fill_color={'field':'ncolor'})\n",
    "graph_renderer.edge_renderer.glyph = MultiLine(line_color=ecolor, line_alpha=1, line_width=ewidth)\n",
    "graph_renderer.selection_policy = NodesAndLinkedEdges()\n",
    "graph_renderer.inspection_policy = NodesAndLinkedEdges()\n",
    "\n",
    "plot.renderers.append(graph_renderer)\n",
    "\n",
    "output_file(salida+\".html\")\n",
    "\n",
    "show(plot)"
   ]
  },
  {
   "cell_type": "code",
   "execution_count": null,
   "metadata": {},
   "outputs": [],
   "source": []
  },
  {
   "cell_type": "code",
   "execution_count": null,
   "metadata": {},
   "outputs": [],
   "source": [
    "js_filter = CustomJSFilter(args=dict(slider=slider, source=source), code=code)"
   ]
  },
  {
   "cell_type": "code",
   "execution_count": null,
   "metadata": {},
   "outputs": [],
   "source": [
    "code = '''\n",
    "var N = slider.value\n",
    "var indices = [];\n",
    "for (var i = 0; i <= source.data['Raw distance'].length; i++){\n",
    "    if (source.data['Raw distance'][i] <= N) {\n",
    "        indices.push(true)\n",
    "    }\n",
    "    else{\n",
    "        indices.push(false)\n",
    "    }\n",
    "}\n",
    "return indices;\n",
    "'''"
   ]
  },
  {
   "cell_type": "code",
   "execution_count": null,
   "metadata": {},
   "outputs": [],
   "source": []
  },
  {
   "cell_type": "code",
   "execution_count": null,
   "metadata": {},
   "outputs": [],
   "source": []
  }
 ],
 "metadata": {
  "kernelspec": {
   "display_name": "Python [conda env:datos]",
   "language": "python",
   "name": "conda-env-datos-py"
  },
  "language_info": {
   "codemirror_mode": {
    "name": "ipython",
    "version": 3
   },
   "file_extension": ".py",
   "mimetype": "text/x-python",
   "name": "python",
   "nbconvert_exporter": "python",
   "pygments_lexer": "ipython3",
   "version": "3.7.8"
  }
 },
 "nbformat": 4,
 "nbformat_minor": 2
}
