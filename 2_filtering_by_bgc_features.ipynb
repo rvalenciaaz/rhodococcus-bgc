{
 "cells": [
  {
   "cell_type": "code",
   "execution_count": 2,
   "metadata": {},
   "outputs": [],
   "source": [
    "from Bio import SeqIO\n",
    "import os\n",
    "import re\n",
    "import pandas as pd\n",
    "from functools import reduce\n",
    "from shutil import copyfile\n",
    "#import community\n",
    "import pickle"
   ]
  },
  {
   "cell_type": "code",
   "execution_count": 3,
   "metadata": {},
   "outputs": [],
   "source": [
    "pattern=re.compile('\\((.*?)\\)')"
   ]
  },
  {
   "cell_type": "code",
   "execution_count": 4,
   "metadata": {},
   "outputs": [],
   "source": [
    "def check(secu,tipo):\n",
    "    for i in secu.features:\n",
    "        if i.type=='cluster':\n",
    "            if i.qualifiers['product'][0]==tipo:\n",
    "                return True\n",
    "            else:\n",
    "                return False\n",
    "            break"
   ]
  },
  {
   "cell_type": "code",
   "execution_count": 5,
   "metadata": {},
   "outputs": [],
   "source": [
    "yo=pd.read_csv('v2_nodes_after_cleaning.csv')"
   ]
  },
  {
   "cell_type": "code",
   "execution_count": 6,
   "metadata": {},
   "outputs": [],
   "source": [
    "yo2=yo.copy()"
   ]
  },
  {
   "cell_type": "code",
   "execution_count": 7,
   "metadata": {},
   "outputs": [],
   "source": [
    "ty=[]\n",
    "for w in yo2['Id']:\n",
    "    boo=SeqIO.read('clusters/'+w+'.gbk','genbank')\n",
    "    ty.append(len(boo))"
   ]
  },
  {
   "cell_type": "code",
   "execution_count": 9,
   "metadata": {},
   "outputs": [],
   "source": [
    "yo3=yo2.copy()\n",
    "yo3['length']=ty"
   ]
  },
  {
   "cell_type": "code",
   "execution_count": 10,
   "metadata": {},
   "outputs": [],
   "source": [
    "yo3=yo3[['Id','length']].sort_values('length')"
   ]
  },
  {
   "cell_type": "code",
   "execution_count": 14,
   "metadata": {},
   "outputs": [],
   "source": [
    "clu=[]\n",
    "leng=[]\n",
    "cds=[]\n",
    "bio_cds=[]\n",
    "counter1=0\n",
    "counter2=0\n",
    "#amp=[]\n",
    "val_amp=0\n",
    "for i,l in zip(yo3['Id'],yo3['length']):\n",
    "    q=SeqIO.read('clusters/'+i+'.gbk','genbank')\n",
    "    sumario_cds=[cat.qualifiers for cat in q.features if (cat.type=='CDS')]\n",
    "    o_sec=[j for j in sumario_cds if ('sec_met' in j.keys())]\n",
    "    nc=[]\n",
    "    for a in o_sec:\n",
    "        tipox=a['sec_met'][0].split(':')[1].strip()\n",
    "        try:\n",
    "            kind=a['sec_met'][2].split(':')[1].strip()\n",
    "        except:\n",
    "            kind='none'\n",
    "        if check(q,'nrps'):\n",
    "            if (kind=='biosynthetic')&(tipox=='nrps'):\n",
    "                nc.append(a)\n",
    "        else:\n",
    "            if kind=='biosynthetic':\n",
    "                nc.append(a)\n",
    "    sumario=[cat.qualifiers for cat in q.features if (cat.type=='PFAM_domain')]\n",
    "    f=lambda x:x['domain'][0]\n",
    "    if (len(sumario)!=0)&(check(q,'nrps')):\n",
    "        dominios=list(map(f,sumario))\n",
    "        val_amp=dominios.count('AMP-binding')\n",
    "    #if (len(sumario_cds)>=2) & (len(nc)>=1) & (len(sumario_cds)>len(nc)) & (not(check(q,'nrps'))):\n",
    "    #if (check(q,'nrps'))&(len(sumario_cds)>=2) & (len(nc)>=1) & (len(sumario_cds)>len(nc)):\n",
    "        #counter1+=1\n",
    "    #if (check(q,'nrps'))&(len(sumario_cds)>=2) & (len(nc)>=1) & (len(sumario_cds)>len(nc)) & (val_amp>=2):\n",
    "        #counter2+=1\n",
    "    if (check(q,'nrps'))&(len(sumario_cds)>=2) & (len(nc)>=1) & (len(sumario_cds)>len(nc)) & (val_amp>=2):\n",
    "        clu.append(i)\n",
    "        leng.append(l)\n",
    "        cds.append(len(sumario_cds))\n",
    "        bio_cds.append(len(nc))\n",
    "        #amp.append(val_amp)\n",
    "    if (len(sumario_cds)>=2) & (len(nc)>=1) & (len(sumario_cds)>len(nc)) & (not(check(q,'nrps'))):\n",
    "        clu.append(i)\n",
    "        leng.append(l)\n",
    "        cds.append(len(sumario_cds))\n",
    "        bio_cds.append(len(nc))"
   ]
  },
  {
   "cell_type": "code",
   "execution_count": 18,
   "metadata": {},
   "outputs": [
    {
     "data": {
      "text/plain": [
       "718"
      ]
     },
     "execution_count": 18,
     "metadata": {},
     "output_type": "execute_result"
    }
   ],
   "source": [
    "counter2"
   ]
  },
  {
   "cell_type": "code",
   "execution_count": 10,
   "metadata": {},
   "outputs": [],
   "source": [
    "tempo=pd.DataFrame({'Id':clu,'length':leng,'num_cds':cds,'num_bio_cds':bio_cds}) #,'amp_binding':amp"
   ]
  },
  {
   "cell_type": "code",
   "execution_count": null,
   "metadata": {},
   "outputs": [],
   "source": []
  },
  {
   "cell_type": "code",
   "execution_count": 12,
   "metadata": {},
   "outputs": [],
   "source": [
    "tu1=yo.copy()\n",
    "spe=yo[['Id','reduccion']]"
   ]
  },
  {
   "cell_type": "code",
   "execution_count": 13,
   "metadata": {},
   "outputs": [],
   "source": [
    "tu1.set_index('Id',inplace=True)"
   ]
  },
  {
   "cell_type": "code",
   "execution_count": 14,
   "metadata": {},
   "outputs": [],
   "source": [
    "selec=tu1.loc[tempo['Id'].tolist(),:]"
   ]
  },
  {
   "cell_type": "code",
   "execution_count": 15,
   "metadata": {},
   "outputs": [],
   "source": [
    "selec2=selec.reset_index('Id')"
   ]
  },
  {
   "cell_type": "code",
   "execution_count": 16,
   "metadata": {},
   "outputs": [],
   "source": [
    "with open('rhodo_contig_genome_dict.pkl','rb') as f:\n",
    "    values=pickle.load(f)"
   ]
  },
  {
   "cell_type": "code",
   "execution_count": 17,
   "metadata": {},
   "outputs": [],
   "source": [
    "tre=selec2['Id'].apply(lambda x:x[0:-11].split('.')[0]+'.1').apply(lambda x:values[x])"
   ]
  },
  {
   "cell_type": "code",
   "execution_count": 18,
   "metadata": {},
   "outputs": [
    {
     "data": {
      "text/plain": [
       "110"
      ]
     },
     "execution_count": 18,
     "metadata": {},
     "output_type": "execute_result"
    }
   ],
   "source": [
    "len(pd.unique(tre))"
   ]
  },
  {
   "cell_type": "code",
   "execution_count": 19,
   "metadata": {},
   "outputs": [
    {
     "data": {
      "text/plain": [
       "NRPS             988\n",
       "Other            365\n",
       "Terpene          194\n",
       "PKS              193\n",
       "RiPPs            130\n",
       "Ectoine          112\n",
       "Butyrolactone    108\n",
       "Other hybrids    102\n",
       "Name: reduccion, dtype: int64"
      ]
     },
     "execution_count": 19,
     "metadata": {},
     "output_type": "execute_result"
    }
   ],
   "source": [
    "yo['reduccion'].value_counts()"
   ]
  },
  {
   "cell_type": "code",
   "execution_count": 20,
   "metadata": {},
   "outputs": [
    {
     "data": {
      "text/plain": [
       "NRPS             718\n",
       "Other            340\n",
       "Terpene          194\n",
       "PKS              192\n",
       "RiPPs            130\n",
       "Ectoine          112\n",
       "Butyrolactone    108\n",
       "Other hybrids    102\n",
       "Name: reduccion, dtype: int64"
      ]
     },
     "execution_count": 20,
     "metadata": {},
     "output_type": "execute_result"
    }
   ],
   "source": [
    "#selec2[~selec2['Label'].isna()]\n",
    "selec2['reduccion'].value_counts()"
   ]
  },
  {
   "cell_type": "code",
   "execution_count": 19,
   "metadata": {},
   "outputs": [],
   "source": [
    "#selec2['reduccion'].value_counts().to_excel('conteo_154genomas+BGC_check_control.xlsx')"
   ]
  },
  {
   "cell_type": "code",
   "execution_count": 22,
   "metadata": {},
   "outputs": [],
   "source": [
    "selec2.to_csv('v2_nodes_after_cleaning_checkcontrol.csv',index=False)"
   ]
  },
  {
   "cell_type": "code",
   "execution_count": 23,
   "metadata": {},
   "outputs": [],
   "source": [
    "chosen=selec2['Id'].tolist()"
   ]
  },
  {
   "cell_type": "code",
   "execution_count": 24,
   "metadata": {},
   "outputs": [],
   "source": [
    "tempo2=tempo.merge(spe,how='left',on='Id')"
   ]
  },
  {
   "cell_type": "code",
   "execution_count": 25,
   "metadata": {},
   "outputs": [],
   "source": [
    "tempo2=tempo2.sort_values('length')"
   ]
  },
  {
   "cell_type": "code",
   "execution_count": 26,
   "metadata": {},
   "outputs": [],
   "source": [
    "tempo2.to_csv('v2_info_nodes_after_cleaning_checkcontrol.csv',index=False)"
   ]
  },
  {
   "cell_type": "code",
   "execution_count": 27,
   "metadata": {},
   "outputs": [],
   "source": [
    "edgo=pd.read_csv('v2_edges_06_after_cleaning.csv')"
   ]
  },
  {
   "cell_type": "code",
   "execution_count": 28,
   "metadata": {},
   "outputs": [],
   "source": [
    "edgonuevo=edgo.loc[(edgo['Source'].isin(chosen))&(edgo['Target'].isin(chosen))]"
   ]
  },
  {
   "cell_type": "code",
   "execution_count": 29,
   "metadata": {},
   "outputs": [],
   "source": [
    "edgonuevo.to_csv('v2_edges_06_after_cleaning_checkcontrol.csv',index=False)"
   ]
  },
  {
   "cell_type": "code",
   "execution_count": null,
   "metadata": {},
   "outputs": [],
   "source": []
  },
  {
   "cell_type": "code",
   "execution_count": null,
   "metadata": {},
   "outputs": [],
   "source": []
  }
 ],
 "metadata": {
  "kernelspec": {
   "display_name": "Python 3",
   "language": "python",
   "name": "python3"
  },
  "language_info": {
   "codemirror_mode": {
    "name": "ipython",
    "version": 3
   },
   "file_extension": ".py",
   "mimetype": "text/x-python",
   "name": "python",
   "nbconvert_exporter": "python",
   "pygments_lexer": "ipython3",
   "version": "3.8.3"
  }
 },
 "nbformat": 4,
 "nbformat_minor": 2
}
